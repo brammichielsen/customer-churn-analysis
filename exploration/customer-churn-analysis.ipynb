{
 "cells": [
  {
   "cell_type": "code",
   "execution_count": null,
   "metadata": {},
   "outputs": [],
   "source": [
    "# Display the column names of the DataFrame\n",
    "for column_name in df.columns:\n",
    "    print(column_name)"
   ]
  },
  {
   "cell_type": "code",
   "execution_count": null,
   "metadata": {},
   "outputs": [],
   "source": [
    "df.head()"
   ]
  },
  {
   "cell_type": "markdown",
   "metadata": {},
   "source": [
    "#### Legend"
   ]
  },
  {
   "cell_type": "markdown",
   "metadata": {},
   "source": [
    "| Column Name                                            | Explanation                                                                   |\n",
    "|-------------------------------------------------------|-------------------------------------------------------------------------------|\n",
    "| CLIENTNUM                                             | Client number. Unique identifier for the customer holding the account         |\n",
    "| Attrition_Flag                                        | Internal event (customer activity) variable - if the account is closed then 1 else 0 |\n",
    "| Customer_Age                                          | Demographic variable - Customer's Age in Years                                |\n",
    "| Gender                                                | Demographic variable - M=Male, F=Female                                       |\n",
    "| Dependent_count                                       | Demographic variable - Number of dependents                                    |\n",
    "| Education_Level                                       | Demographic variable - Educational Qualification of the account holder (example: high school, college graduate, etc.) |\n",
    "| Marital_Status                                        | Demographic variable - Married, Single, Divorced, Unknown                     |\n",
    "| Income_Category                                       | Demographic variable - Annual Income Category of the account holder (< $40K, $40K - 60K, $60K - $80K, $80K-$120K, > $120K, Unknown) |\n",
    "| Card_Category                                         | Product Variable - Type of Card (Blue, Silver, Gold, Platinum)                 |\n",
    "| Months_on_book                                       | Period of relationship with bank                                              |\n",
    "| Total_Relationship_Count                             | Total no. of products held by the customer                                    |\n",
    "| Months_Inactive_12_mon                               | No. of months inactive in the last 12 months                                  |\n",
    "| Contacts_Count_12_mon                                | No. of Contacts in the last 12 months                                         |\n",
    "| Credit_Limit                                         | Credit Limit on the Credit Card                                               |\n",
    "| Total_Revolving_Bal                                  | Total Revolving Balance on the Credit Card                                    |\n",
    "| Avg_Open_To_Buy                                      | Open to Buy Credit Line (Average of last 12 months)                            |\n",
    "| Total_Amt_Chng_Q4_Q1                                 | Change in Transaction Amount (Q4 over Q1)                                      |\n",
    "| Total_Trans_Amt                                      | Total Transaction Amount (Last 12 months)                                      |\n",
    "| Total_Trans_Ct                                       | Total Transaction Count (Last 12 months)                                      |\n",
    "| Total_Ct_Chng_Q4_Q1                                  | Change in Transaction Count (Q4 over Q1)                                      |\n",
    "| Avg_Utilization_Ratio                                | Average Card Utilization Ratio                                                |\n",
    "| Naive_Bayes_Classifier_(...)_mon_1 | Naive Bayes |\n",
    "| Naive_Bayes_Classifier_(...)_mon_2 | Naive Bayes |\n"
   ]
  },
  {
   "cell_type": "markdown",
   "metadata": {},
   "source": [
    "#### 1. Prepare data"
   ]
  },
  {
   "cell_type": "code",
   "execution_count": 2,
   "metadata": {},
   "outputs": [],
   "source": [
    "# Prepare the dataset for further analysis by reading the data into a DataFrame\n",
    "\n",
    "import pandas as pd\n",
    "\n",
    "file_path = '../data/BankChurners.csv'\n",
    "df = pd.read_csv(file_path)"
   ]
  },
  {
   "cell_type": "markdown",
   "metadata": {},
   "source": [
    "#### 2. Data cleaning"
   ]
  },
  {
   "cell_type": "code",
   "execution_count": null,
   "metadata": {},
   "outputs": [],
   "source": [
    "# Check for missing values, duplicates, and inconsistent data. Remove or impute missing values as needed."
   ]
  },
  {
   "cell_type": "markdown",
   "metadata": {},
   "source": [
    "#### 3. Feature selection"
   ]
  },
  {
   "cell_type": "code",
   "execution_count": null,
   "metadata": {},
   "outputs": [],
   "source": [
    "#  Identify relevant features for classification. Drop columns that are not useful or redundant for the analysis."
   ]
  },
  {
   "cell_type": "markdown",
   "metadata": {},
   "source": [
    "#### 4. Encoding categorical variables"
   ]
  },
  {
   "cell_type": "code",
   "execution_count": null,
   "metadata": {},
   "outputs": [],
   "source": [
    "# Convert categorical variables (e.g., Gender, Education_Level, Marital_Status, Income_Category, Card_Category) into numerical format using one-hot encoding"
   ]
  },
  {
   "cell_type": "markdown",
   "metadata": {},
   "source": []
  },
  {
   "cell_type": "code",
   "execution_count": null,
   "metadata": {},
   "outputs": [],
   "source": [
    "import matplotlib.pyplot as plt\n",
    "\n",
    "# Select the columns of interest\n",
    "selected_columns = ['Customer_Age', 'Dependent_count', 'Total_Trans_Amt', 'Total_Trans_Ct', 'Attrition_Flag']\n",
    "data_subset = df[selected_columns]\n",
    "\n",
    "# Explore data statistics\n",
    "data_statistics = data_subset.describe()\n",
    "\n",
    "# Visualize the relationship between features and churn\n",
    "plt.figure(figsize=(15, 10))\n",
    "\n",
    "# Box plots for continuous variables\n",
    "plt.subplot(2, 2, 1)\n",
    "plt.boxplot(data_subset['Customer_Age'], vert=False)\n",
    "plt.title('Customer Age Box Plot')\n",
    "\n",
    "plt.subplot(2, 2, 2)\n",
    "plt.boxplot(data_subset['Dependent_count'], vert=False)\n",
    "plt.title('Dependent Count Box Plot')\n",
    "\n",
    "plt.subplot(2, 2, 3)\n",
    "plt.boxplot(data_subset['Total_Trans_Amt'], vert=False)\n",
    "plt.title('Total Transaction Amount Box Plot')\n",
    "\n",
    "plt.subplot(2, 2, 4)\n",
    "plt.boxplot(data_subset['Total_Trans_Ct'], vert=False)\n",
    "plt.title('Total Transaction Count Box Plot')\n",
    "\n",
    "# Bar plot for churn\n",
    "plt.figure(figsize=(8, 5))\n",
    "churn_counts = data_subset['Attrition_Flag'].value_counts()\n",
    "plt.bar(churn_counts.index, churn_counts.values)\n",
    "plt.title('Churn Distribution')\n",
    "plt.xlabel('Churn Status')\n",
    "plt.ylabel('Count')\n",
    "\n",
    "plt.tight_layout()\n",
    "plt.show()\n",
    "\n",
    "# Explore data statistics\n",
    "print(\"Data Statistics:\")\n",
    "print(data_statistics)\n",
    "\n",
    "# Explore churn distribution\n",
    "print(\"\\nChurn Distribution:\")\n",
    "print(churn_counts)\n"
   ]
  },
  {
   "cell_type": "code",
   "execution_count": null,
   "metadata": {},
   "outputs": [],
   "source": [
    "import sklearn\n",
    "from sklearn.model_selection import train_test_split\n",
    "from sklearn.linear_model import LogisticRegression\n",
    "from sklearn.metrics import accuracy_score, classification_report\n",
    "\n",
    "# Select features and target variable\n",
    "X = df[['Customer_Age', 'Dependent_count', 'Total_Trans_Amt', 'Total_Trans_Ct']]\n",
    "y = df['Attrition_Flag']\n",
    "\n",
    "# Split the data into training and testing sets\n",
    "X_train, X_test, y_train, y_test = train_test_split(X, y, test_size=0.2, random_state=42)\n",
    "\n",
    "# Initialize and train a Logistic Regression model\n",
    "model = LogisticRegression()\n",
    "model.fit(X_train, y_train)\n",
    "\n",
    "# Make predictions on the test set\n",
    "y_pred = model.predict(X_test)\n",
    "\n",
    "# Evaluate the model\n",
    "accuracy = accuracy_score(y_test, y_pred)\n",
    "report = classification_report(y_test, y_pred)\n",
    "\n",
    "# Print the evaluation results\n",
    "print(f\"Accuracy: {accuracy}\")\n",
    "print(\"Classification Report:\")\n",
    "print(report)\n"
   ]
  }
 ],
 "metadata": {
  "kernelspec": {
   "display_name": "venv",
   "language": "python",
   "name": "python3"
  },
  "language_info": {
   "codemirror_mode": {
    "name": "ipython",
    "version": 3
   },
   "file_extension": ".py",
   "mimetype": "text/x-python",
   "name": "python",
   "nbconvert_exporter": "python",
   "pygments_lexer": "ipython3",
   "version": "3.11.5"
  },
  "orig_nbformat": 4
 },
 "nbformat": 4,
 "nbformat_minor": 2
}
